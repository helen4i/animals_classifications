{
 "cells": [
  {
   "cell_type": "markdown",
   "id": "5f13fce7",
   "metadata": {},
   "source": [
    "Animal Classification and Named Entity Recognition (NER) Pipeline"
   ]
  },
  {
   "cell_type": "code",
   "execution_count": 7,
   "id": "416698fe",
   "metadata": {
    "vscode": {
     "languageId": "plaintext"
    }
   },
   "outputs": [],
   "source": [
    "import argparse\n",
    "import os\n",
    "from ner.inference_ner import extract_animal  # Imports the function from your NER inference file.\n",
    "from image_classifier.inference_image import predict_animal  # Imports the function from your image classifier inference file."
   ]
  },
  {
   "cell_type": "code",
   "execution_count": 8,
   "id": "ad65fec6",
   "metadata": {
    "vscode": {
     "languageId": "plaintext"
    }
   },
   "outputs": [],
   "source": [
    "def animal_pipeline(text: str, image_path: str) -> bool:\n",
    "\n",
    "    # Extract animal entity from text using the NER model.\n",
    "    extracted_animal = extract_animal(text)\n",
    "    if extracted_animal is None:\n",
    "        print(\"No animal detected in the provided text.\")\n",
    "        return False\n",
    "\n",
    "    # Check if the image file exists.\n",
    "    if not os.path.exists(image_path):\n",
    "        print(f\"Error: The image file '{image_path}' does not exist.\")\n",
    "        return False\n",
    "\n",
    "    # Predict the animal present in the image.\n",
    "    predicted_animal, confidence = predict_animal(image_path)\n",
    "    \n",
    "    # Logging extracted and predicted results.\n",
    "    print(f\"Extracted animal from text: '{extracted_animal}'\")\n",
    "    print(f\"Predicted animal from image: '{predicted_animal}' (confidence: {confidence:.2f})\")\n",
    "\n",
    "    # Compare the extracted animal and predicted animal (case insensitive).\n",
    "    #if extracted_animal.lower() == predicted_animal.lower():\n",
    "    if predicted_animal.lower() in extracted_animal.lower().split():\n",
    "        print(\"Match confirmed: The animal mentioned in the text matches the image.\")\n",
    "        return True\n",
    "    else:\n",
    "        print(\"Mismatch: The animal mentioned in the text does not match the image.\")\n",
    "        return False"
   ]
  },
  {
   "cell_type": "code",
   "execution_count": 9,
   "id": "c84b2571",
   "metadata": {
    "vscode": {
     "languageId": "plaintext"
    }
   },
   "outputs": [
    {
     "name": "stdin",
     "output_type": "stream",
     "text": [
      "Enter text with animal class, e.g. dog, rabbit etc.:  I see the tiger.\n",
      "Enter path to an image with animal:  ./demo_images/Tiger-1.jpg\n"
     ]
    },
    {
     "name": "stdout",
     "output_type": "stream",
     "text": [
      "\u001b[1m1/1\u001b[0m \u001b[32m━━━━━━━━━━━━━━━━━━━━\u001b[0m\u001b[37m\u001b[0m \u001b[1m0s\u001b[0m 46ms/step\n",
      "Extracted animal from text: 'the tiger'\n",
      "Predicted animal from image: 'Tiger' (confidence: 1.00)\n",
      "Match confirmed: The animal mentioned in the text matches the image.\n",
      "Final Boolean Output: True\n"
     ]
    }
   ],
   "source": [
    "# Parse command-line arguments.\n",
    "text = input(\"Enter text with animal class, e.g. dog, rabbit etc.: \")\n",
    "image_path = input(\"Enter path to an image with animal: \")\n",
    "\n",
    "# Run the pipeline and print the final boolean result.\n",
    "result = animal_pipeline(text, image_path)\n",
    "print(\"Final Boolean Output:\", result)"
   ]
  }
 ],
 "metadata": {
  "kernelspec": {
   "display_name": "Python 3 (ipykernel)",
   "language": "python",
   "name": "python3"
  },
  "language_info": {
   "codemirror_mode": {
    "name": "ipython",
    "version": 3
   },
   "file_extension": ".py",
   "mimetype": "text/x-python",
   "name": "python",
   "nbconvert_exporter": "python",
   "pygments_lexer": "ipython3",
   "version": "3.9.6"
  }
 },
 "nbformat": 4,
 "nbformat_minor": 5
}
